{
 "cells": [
  {
   "cell_type": "markdown",
   "metadata": {},
   "source": [
    "gfdg"
   ]
  },
  {
   "cell_type": "code",
   "execution_count": 6,
   "metadata": {},
   "outputs": [],
   "source": [
    "#Primeiramente importamos para poder realizar o código\n",
    "%matplotlib inline\n",
    "import pandas as pd\n",
    "import numpy as np\n",
    "import math as math\n",
    "from scipy import stats\n",
    "import seaborn as sns\n",
    "from emoji import UNICODE_EMOJI\n",
    "import matplotlib.pyplot as plt"
   ]
  },
  {
   "cell_type": "code",
   "execution_count": 7,
   "metadata": {},
   "outputs": [
    {
     "data": {
      "text/html": [
       "<div>\n",
       "<style scoped>\n",
       "    .dataframe tbody tr th:only-of-type {\n",
       "        vertical-align: middle;\n",
       "    }\n",
       "\n",
       "    .dataframe tbody tr th {\n",
       "        vertical-align: top;\n",
       "    }\n",
       "\n",
       "    .dataframe thead th {\n",
       "        text-align: right;\n",
       "    }\n",
       "</style>\n",
       "<table border=\"1\" class=\"dataframe\">\n",
       "  <thead>\n",
       "    <tr style=\"text-align: right;\">\n",
       "      <th></th>\n",
       "      <th>Treinamento</th>\n",
       "      <th>Valor_(R(1)_I(0))</th>\n",
       "      <th>Positivo(1)/Negativo(0)</th>\n",
       "    </tr>\n",
       "  </thead>\n",
       "  <tbody>\n",
       "    <tr>\n",
       "      <th>0</th>\n",
       "      <td>@floydy1983  save big with joyhunt-up to 80% o...</td>\n",
       "      <td>1</td>\n",
       "      <td>1.0</td>\n",
       "    </tr>\n",
       "    <tr>\n",
       "      <th>1</th>\n",
       "      <td>rt @virgilableaux: hi. former us navy sailor h...</td>\n",
       "      <td>1</td>\n",
       "      <td>1.0</td>\n",
       "    </tr>\n",
       "  </tbody>\n",
       "</table>\n",
       "</div>"
      ],
      "text/plain": [
       "                                         Treinamento  Valor_(R(1)_I(0))  \\\n",
       "0  @floydy1983  save big with joyhunt-up to 80% o...                  1   \n",
       "1  rt @virgilableaux: hi. former us navy sailor h...                  1   \n",
       "\n",
       "   Positivo(1)/Negativo(0)  \n",
       "0                      1.0  \n",
       "1                      1.0  "
      ]
     },
     "execution_count": 7,
     "metadata": {},
     "output_type": "execute_result"
    }
   ],
   "source": [
    "nike = pd.read_excel('tweets_nike_201809042210.xlsx')\n",
    "nike_treinamento =nike[\"Treinamento\"]\n",
    "nike.head(2)"
   ]
  },
  {
   "cell_type": "code",
   "execution_count": 8,
   "metadata": {},
   "outputs": [],
   "source": [
    "# tirar virgula\n",
    "sopa = \"  \".join(list(nike.Treinamento))\n",
    "split_sopa = sopa.split()"
   ]
  },
  {
   "cell_type": "code",
   "execution_count": 11,
   "metadata": {},
   "outputs": [],
   "source": [
    "import nltk\n",
    "import string\n",
    "pontu = string.punctuation\n",
    "\n",
    "# remove punctuation from each word\n",
    "#table = str.maketrans('', '', string.punctuation)\n",
    "#pelado = [w.translate(table) for w in split_sopa]\n",
    "#print(pelado)\n",
    "\n",
    "pont =[\"\\n\", \"\\t\"]\n",
    "\n",
    "tweet = nike[\"Treinamento\"]\n",
    "\n",
    "tweets_limpos = []\n",
    "\n",
    "for e in tweet:\n",
    "    x = \"\"\n",
    "    for m in e:\n",
    "        if m in UNICODE_EMOJI:\n",
    "            x = x + \" \" + m + \" \"\n",
    "        elif m in pont:\n",
    "            x += \" \"\n",
    "        elif m not in pontu:\n",
    "            x += m\n",
    "    tweets_limpos.append(x)\n",
    "\n",
    "nike_limpinho = pd.DataFrame()\n",
    "nike_limpinho[\"tweets\"]= tweets_limpos\n",
    "nike_limpinho[\"Relevância\"] = nike[\"Valor_(R(1)_I(0))\"]\n"
   ]
  },
  {
   "cell_type": "code",
   "execution_count": 19,
   "metadata": {},
   "outputs": [
    {
     "data": {
      "text/html": [
       "<div>\n",
       "<style scoped>\n",
       "    .dataframe tbody tr th:only-of-type {\n",
       "        vertical-align: middle;\n",
       "    }\n",
       "\n",
       "    .dataframe tbody tr th {\n",
       "        vertical-align: top;\n",
       "    }\n",
       "\n",
       "    .dataframe thead th {\n",
       "        text-align: right;\n",
       "    }\n",
       "</style>\n",
       "<table border=\"1\" class=\"dataframe\">\n",
       "  <thead>\n",
       "    <tr style=\"text-align: right;\">\n",
       "      <th></th>\n",
       "      <th>tweets</th>\n",
       "      <th>Relevância</th>\n",
       "    </tr>\n",
       "  </thead>\n",
       "  <tbody>\n",
       "    <tr>\n",
       "      <th>0</th>\n",
       "      <td>floydy1983 save big with joyhuntup off rpp gre...</td>\n",
       "      <td>1</td>\n",
       "    </tr>\n",
       "    <tr>\n",
       "      <th>1</th>\n",
       "      <td>virgilableaux former navy sailor here wonderin...</td>\n",
       "      <td>1</td>\n",
       "    </tr>\n",
       "    <tr>\n",
       "      <th>2</th>\n",
       "      <td>boycottnike think great big thank you nike fro...</td>\n",
       "      <td>1</td>\n",
       "    </tr>\n",
       "    <tr>\n",
       "      <th>3</th>\n",
       "      <td>thedonholly you plan boycotting nike will disp...</td>\n",
       "      <td>1</td>\n",
       "    </tr>\n",
       "    <tr>\n",
       "      <th>4</th>\n",
       "      <td>tonestradamus when they start boycotting nike ...</td>\n",
       "      <td>1</td>\n",
       "    </tr>\n",
       "  </tbody>\n",
       "</table>\n",
       "</div>"
      ],
      "text/plain": [
       "                                              tweets  Relevância\n",
       "0  floydy1983 save big with joyhuntup off rpp gre...           1\n",
       "1  virgilableaux former navy sailor here wonderin...           1\n",
       "2  boycottnike think great big thank you nike fro...           1\n",
       "3  thedonholly you plan boycotting nike will disp...           1\n",
       "4  tonestradamus when they start boycotting nike ...           1"
      ]
     },
     "execution_count": 19,
     "metadata": {},
     "output_type": "execute_result"
    }
   ],
   "source": [
    "## limpar os nomes\n",
    "\n",
    "tweet_limpos =[]\n",
    "y = \" \"\n",
    "for e in nike_limpinho[\"tweets\"]:\n",
    "    limpao = [] \n",
    "    splitei = e.split(\" \")\n",
    "    for m in splitei:\n",
    "        if m in UNICODE_EMOJI:\n",
    "            limpao.append(m)\n",
    "        elif len(m)> 2 and m[0]!=\"@\" and m[0]!=\"#\" and m[:4] !=\"http\":\n",
    "            limpao.append(m)\n",
    "    tweet_limpos.append(y.join(limpao))\n",
    "    \n",
    "nike_limpao = pd.DataFrame()\n",
    "nike_limpao[\"tweets\"]= tweet_limpos\n",
    "nike_limpao[\"Relevância\"] = nike[\"Valor_(R(1)_I(0))\"]"
   ]
  },
  {
   "cell_type": "code",
   "execution_count": 27,
   "metadata": {},
   "outputs": [],
   "source": [
    "palavras = []\n",
    "\n",
    "for e in nike_limpao[\"tweets\"]: \n",
    "    y = e.split()\n",
    "    for m in y:\n",
    "        if m not in palavras: \n",
    "            palavras.append(m)\n",
    "            \n",
    "Rel = 0\n",
    "Irrel = 0\n",
    "for i in range(len(nike_limpao)):\n",
    "    linha = nike_limpao[\"tweets\"][i].split(\" \")\n",
    "    for m in linha:\n",
    "        if nike_limpao[\"Relevância\"][i] == 0:\n",
    "            Irrel +=1\n",
    "        else:\n",
    "            Rel +=1"
   ]
  },
  {
   "cell_type": "code",
   "execution_count": 28,
   "metadata": {},
   "outputs": [],
   "source": [
    "freq_rel = {}\n",
    "freq_irrel = {}\n",
    "\n",
    "for palavra in palavras:\n",
    "    freq_rel[palavra] = 1\n",
    "    freq_irrel[palavra] = 1\n",
    "\n",
    "for i in range(len(nike_limpao)):\n",
    "    palavra = nike_limpao[\"tweets\"][i].split(\" \")\n",
    "    for m in palavra:\n",
    "        if nike_limpao[\"Relevância\"][i]== 0:\n",
    "            freq_irrel[m]+=1\n",
    "        else:\n",
    "            freq_rel[m]+=1"
   ]
  },
  {
   "cell_type": "code",
   "execution_count": 32,
   "metadata": {},
   "outputs": [],
   "source": [
    "#prob_rel = probabilidade de ser relevante dado tal palavra\n",
    "prob_rel={}\n",
    "prob_irrel={}\n",
    "\n",
    "for palavra in palavras:\n",
    "    prob_rel[palavra] = freq_rel[palavra]/(len(palavras)+Rel)\n",
    "    prob_irrel[palavra] = freq_irrel[palavra]/(len(palavras)+ Irrel)\n"
   ]
  },
  {
   "cell_type": "code",
   "execution_count": null,
   "metadata": {},
   "outputs": [],
   "source": [
    "#tirar os sinais\n",
    "\n",
    "#for palavra in split_sopa:\n",
    "dicio_geral ={}\n",
    "\n",
    "# criar um dicionario\n",
    "for palavra in pelado: \n",
    "    if palavra in dicio_geral:\n",
    "        dicio_geral[palavra]+=1\n",
    "    else:\n",
    "        dicio_geral[palavra]=1"
   ]
  },
  {
   "cell_type": "code",
   "execution_count": 34,
   "metadata": {},
   "outputs": [],
   "source": [
    "## probabilidade\n",
    "\n",
    "irrelevante = 0\n",
    "relevante = 0\n",
    "for i in nike_limpao[\"Relevância\"]:\n",
    "    if i == 0:\n",
    "        irrelevante+=1\n",
    "    else: \n",
    "        relevante +=1\n",
    "\n",
    "pI = irrelevante/len(nike_limpao[\"Relevância\"])\n",
    "pR = relevante/len(nike_limpao[\"Relevância\"])\n",
    "\n"
   ]
  },
  {
   "cell_type": "markdown",
   "metadata": {},
   "source": [
    "## referências\n",
    "https://machinelearningmastery.com/clean-text-machine-learning-python/"
   ]
  },
  {
   "cell_type": "code",
   "execution_count": null,
   "metadata": {},
   "outputs": [],
   "source": []
  }
 ],
 "metadata": {
  "kernelspec": {
   "display_name": "Python 3",
   "language": "python",
   "name": "python3"
  },
  "language_info": {
   "codemirror_mode": {
    "name": "ipython",
    "version": 3
   },
   "file_extension": ".py",
   "mimetype": "text/x-python",
   "name": "python",
   "nbconvert_exporter": "python",
   "pygments_lexer": "ipython3",
   "version": "3.6.4"
  }
 },
 "nbformat": 4,
 "nbformat_minor": 2
}
