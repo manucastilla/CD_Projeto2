{
 "cells": [
  {
   "cell_type": "markdown",
   "metadata": {},
   "source": [
    "gfdg"
   ]
  },
  {
   "cell_type": "code",
   "execution_count": 2,
   "metadata": {},
   "outputs": [],
   "source": [
    "#Primeiramente importamos para poder realizar o código\n",
    "%matplotlib inline\n",
    "import pandas as pd\n",
    "import numpy as np\n",
    "import math as math\n",
    "from scipy import stats\n",
    "import seaborn as sns\n",
    "from emoji import UNICODE_EMOJI\n",
    "import matplotlib.pyplot as plt"
   ]
  },
  {
   "cell_type": "code",
   "execution_count": 3,
   "metadata": {},
   "outputs": [
    {
     "data": {
      "text/html": [
       "<div>\n",
       "<style scoped>\n",
       "    .dataframe tbody tr th:only-of-type {\n",
       "        vertical-align: middle;\n",
       "    }\n",
       "\n",
       "    .dataframe tbody tr th {\n",
       "        vertical-align: top;\n",
       "    }\n",
       "\n",
       "    .dataframe thead th {\n",
       "        text-align: right;\n",
       "    }\n",
       "</style>\n",
       "<table border=\"1\" class=\"dataframe\">\n",
       "  <thead>\n",
       "    <tr style=\"text-align: right;\">\n",
       "      <th></th>\n",
       "      <th>Treinamento</th>\n",
       "      <th>Valor_(R(1)_I(0))</th>\n",
       "      <th>Positivo(1)/Negativo(0)</th>\n",
       "    </tr>\n",
       "  </thead>\n",
       "  <tbody>\n",
       "    <tr>\n",
       "      <th>0</th>\n",
       "      <td>@floydy1983  save big with joyhunt-up to 80% o...</td>\n",
       "      <td>1</td>\n",
       "      <td>1.0</td>\n",
       "    </tr>\n",
       "    <tr>\n",
       "      <th>1</th>\n",
       "      <td>rt @virgilableaux: hi. former us navy sailor h...</td>\n",
       "      <td>1</td>\n",
       "      <td>1.0</td>\n",
       "    </tr>\n",
       "  </tbody>\n",
       "</table>\n",
       "</div>"
      ],
      "text/plain": [
       "                                         Treinamento  Valor_(R(1)_I(0))  \\\n",
       "0  @floydy1983  save big with joyhunt-up to 80% o...                  1   \n",
       "1  rt @virgilableaux: hi. former us navy sailor h...                  1   \n",
       "\n",
       "   Positivo(1)/Negativo(0)  \n",
       "0                      1.0  \n",
       "1                      1.0  "
      ]
     },
     "execution_count": 3,
     "metadata": {},
     "output_type": "execute_result"
    }
   ],
   "source": [
    "nike = pd.read_excel('tweets_nike_201809042210.xlsx')\n",
    "nike_treinamento =nike[\"Treinamento\"]\n",
    "nike.head(2)"
   ]
  },
  {
   "cell_type": "code",
   "execution_count": 4,
   "metadata": {},
   "outputs": [
    {
     "data": {
      "text/html": [
       "<div>\n",
       "<style scoped>\n",
       "    .dataframe tbody tr th:only-of-type {\n",
       "        vertical-align: middle;\n",
       "    }\n",
       "\n",
       "    .dataframe tbody tr th {\n",
       "        vertical-align: top;\n",
       "    }\n",
       "\n",
       "    .dataframe thead th {\n",
       "        text-align: right;\n",
       "    }\n",
       "</style>\n",
       "<table border=\"1\" class=\"dataframe\">\n",
       "  <thead>\n",
       "    <tr style=\"text-align: right;\">\n",
       "      <th></th>\n",
       "      <th>tweets</th>\n",
       "      <th>Relevância</th>\n",
       "    </tr>\n",
       "  </thead>\n",
       "  <tbody>\n",
       "    <tr>\n",
       "      <th>0</th>\n",
       "      <td>floydy1983  save big with joyhuntup to 80 off ...</td>\n",
       "      <td>1</td>\n",
       "    </tr>\n",
       "    <tr>\n",
       "      <th>1</th>\n",
       "      <td>rt virgilableaux hi former us navy sailor here...</td>\n",
       "      <td>1</td>\n",
       "    </tr>\n",
       "    <tr>\n",
       "      <th>2</th>\n",
       "      <td>boycottnike i think a great big thank you nike...</td>\n",
       "      <td>1</td>\n",
       "    </tr>\n",
       "    <tr>\n",
       "      <th>3</th>\n",
       "      <td>rt thedonholly if you plan on boycotting nike ...</td>\n",
       "      <td>1</td>\n",
       "    </tr>\n",
       "    <tr>\n",
       "      <th>4</th>\n",
       "      <td>rt tonestradamus when they start boycotting ni...</td>\n",
       "      <td>1</td>\n",
       "    </tr>\n",
       "  </tbody>\n",
       "</table>\n",
       "</div>"
      ],
      "text/plain": [
       "                                              tweets  Relevância\n",
       "0  floydy1983  save big with joyhuntup to 80 off ...           1\n",
       "1  rt virgilableaux hi former us navy sailor here...           1\n",
       "2  boycottnike i think a great big thank you nike...           1\n",
       "3  rt thedonholly if you plan on boycotting nike ...           1\n",
       "4  rt tonestradamus when they start boycotting ni...           1"
      ]
     },
     "execution_count": 4,
     "metadata": {},
     "output_type": "execute_result"
    }
   ],
   "source": [
    "import nltk\n",
    "import string\n",
    "pontu = string.punctuation\n",
    "\n",
    "\n",
    "#criação de lista para tirar os tabs e os enters\n",
    "pont =[\"\\n\", \"\\t\"]\n",
    "\n",
    "#simplificação para pegar o dataframde dos tweets\n",
    "tweet = nike[\"Treinamento\"]\n",
    "\n",
    "### limpando os tweets\n",
    "tweets_limpos = []\n",
    "\n",
    "for frase in tweet:\n",
    "    x = \"\"\n",
    "    for m in frase:\n",
    "        if m in UNICODE_EMOJI:\n",
    "            x = x + \" \" + m + \" \"\n",
    "        elif m in pont:\n",
    "            x += \" \"\n",
    "        elif m not in pontu:\n",
    "            x += m\n",
    "    tweets_limpos.append(x)\n",
    "\n",
    "# criando um dataframe com os tweets limpos\n",
    "nike_limpinho = pd.DataFrame()\n",
    "nike_limpinho[\"tweets\"]= tweets_limpos\n",
    "nike_limpinho[\"Relevância\"] = nike[\"Valor_(R(1)_I(0))\"]\n",
    "\n",
    "nike_limpinho.head()"
   ]
  },
  {
   "cell_type": "code",
   "execution_count": 5,
   "metadata": {},
   "outputs": [
    {
     "data": {
      "text/html": [
       "<div>\n",
       "<style scoped>\n",
       "    .dataframe tbody tr th:only-of-type {\n",
       "        vertical-align: middle;\n",
       "    }\n",
       "\n",
       "    .dataframe tbody tr th {\n",
       "        vertical-align: top;\n",
       "    }\n",
       "\n",
       "    .dataframe thead th {\n",
       "        text-align: right;\n",
       "    }\n",
       "</style>\n",
       "<table border=\"1\" class=\"dataframe\">\n",
       "  <thead>\n",
       "    <tr style=\"text-align: right;\">\n",
       "      <th></th>\n",
       "      <th>tweets</th>\n",
       "      <th>Relevância</th>\n",
       "    </tr>\n",
       "  </thead>\n",
       "  <tbody>\n",
       "    <tr>\n",
       "      <th>0</th>\n",
       "      <td>floydy1983 save big with joyhuntup off rpp gre...</td>\n",
       "      <td>1</td>\n",
       "    </tr>\n",
       "    <tr>\n",
       "      <th>1</th>\n",
       "      <td>virgilableaux former navy sailor here wonderin...</td>\n",
       "      <td>1</td>\n",
       "    </tr>\n",
       "    <tr>\n",
       "      <th>2</th>\n",
       "      <td>boycottnike think great big thank you nike fro...</td>\n",
       "      <td>1</td>\n",
       "    </tr>\n",
       "    <tr>\n",
       "      <th>3</th>\n",
       "      <td>thedonholly you plan boycotting nike will disp...</td>\n",
       "      <td>1</td>\n",
       "    </tr>\n",
       "    <tr>\n",
       "      <th>4</th>\n",
       "      <td>tonestradamus when they start boycotting nike ...</td>\n",
       "      <td>1</td>\n",
       "    </tr>\n",
       "  </tbody>\n",
       "</table>\n",
       "</div>"
      ],
      "text/plain": [
       "                                              tweets  Relevância\n",
       "0  floydy1983 save big with joyhuntup off rpp gre...           1\n",
       "1  virgilableaux former navy sailor here wonderin...           1\n",
       "2  boycottnike think great big thank you nike fro...           1\n",
       "3  thedonholly you plan boycotting nike will disp...           1\n",
       "4  tonestradamus when they start boycotting nike ...           1"
      ]
     },
     "execution_count": 5,
     "metadata": {},
     "output_type": "execute_result"
    }
   ],
   "source": [
    "## limpar os nomes:\n",
    "    # tirar tudo que é irrelevante para minha pesquisa e para descobrir a probabilidade como: @,\n",
    "    # palavras com poucas letras, #, link(site).\n",
    "\n",
    "tweet_limpos =[]\n",
    "y = \" \"\n",
    "for tweet in nike_limpinho[\"tweets\"]:\n",
    "    limpao = [] \n",
    "    splitei = tweet.split(\" \")\n",
    "    for palavra in splitei:\n",
    "        if palavra in UNICODE_EMOJI:\n",
    "            limpao.append(palavra)\n",
    "        elif len(palavra)> 2 and palavra[0]!=\"@\" and palavra[0]!=\"#\" and palavra[:4] !=\"http\":\n",
    "            limpao.append(palavra)\n",
    "    tweet_limpos.append(y.join(limpao))\n",
    "    \n",
    "nike_limpao = pd.DataFrame()\n",
    "nike_limpao[\"tweets\"]= tweet_limpos\n",
    "nike_limpao[\"Relevância\"] = nike[\"Valor_(R(1)_I(0))\"]\n",
    "\n",
    "nike_limpao.head()"
   ]
  },
  {
   "cell_type": "code",
   "execution_count": 11,
   "metadata": {},
   "outputs": [],
   "source": [
    "palavras = []\n",
    "\n",
    "#adicionando todas palavras que foram recolhidas pelo tweet na lista\n",
    "for e in nike_limpao[\"tweets\"]: \n",
    "    y = e.split()\n",
    "    for m in y:\n",
    "        if m not in palavras: \n",
    "            palavras.append(m)\n",
    "\n",
    "#adicionar a quantidade de vezes que apareceu tweets relevantes e irrelevantes\n",
    "Rel = 0\n",
    "Irrel = 0\n",
    "for i in range(len(nike_limpao)):\n",
    "    linha = nike_limpao[\"tweets\"][i].split(\" \")\n",
    "    for m in linha:\n",
    "        if nike_limpao[\"Relevância\"][i] == 0:\n",
    "            Irrel +=1\n",
    "        else:\n",
    "            Rel +=1\n"
   ]
  },
  {
   "cell_type": "code",
   "execution_count": 24,
   "metadata": {},
   "outputs": [],
   "source": [
    "#adicionando pelo menos as palavras uma vez no dicionario para que quando for fazer vezes nunca multiplica por zero\n",
    "\n",
    "freq_rel = {}\n",
    "freq_irrel = {}\n",
    "\n",
    "for palavra in palavras:\n",
    "    freq_rel[palavra] = 1\n",
    "    freq_irrel[palavra] = 1\n",
    "\n",
    "for i in range(len(nike_limpao)):\n",
    "    palavra = nike_limpao[\"tweets\"][i].split(\" \")\n",
    "    for m in palavra:\n",
    "        if nike_limpao[\"Relevância\"][i]== 0:\n",
    "            freq_irrel[m]+=1\n",
    "        else:\n",
    "            freq_rel[m]+=1\n",
    "            \n"
   ]
  },
  {
   "cell_type": "code",
   "execution_count": 17,
   "metadata": {},
   "outputs": [],
   "source": [
    "#probabilidade de ser relevante dada cada palavra\n",
    "\n",
    "prob_i ={}\n",
    "prob_r = {}\n",
    "\n",
    "for palavra in palavras:\n",
    "    prob_r[palavra]= freq_rel[palavra]/len(palavra)+Rel\n",
    "    prob_i[palavra]= freq_irrel[palavra]/len(palavra)+Irrel"
   ]
  },
  {
   "cell_type": "code",
   "execution_count": 21,
   "metadata": {},
   "outputs": [],
   "source": [
    "irrelavante = 0\n",
    "relevante = 0\n",
    "\n",
    "for p in nike_limpao[\"Relevância\"]:\n",
    "    if p ==0:\n",
    "        irrelavante+=1\n",
    "    else:\n",
    "        relevante +=1\n",
    "        \n",
    "pI = irrelevante/len(nike_limpao[\"Relevância\"])\n",
    "pR = relevante/len(nike_limpao[\"Relevância\"])"
   ]
  },
  {
   "cell_type": "code",
   "execution_count": 32,
   "metadata": {},
   "outputs": [
    {
     "ename": "TypeError",
     "evalue": "argument of type 'float' is not iterable",
     "output_type": "error",
     "traceback": [
      "\u001b[0;31m---------------------------------------------------------------------------\u001b[0m",
      "\u001b[0;31mTypeError\u001b[0m                                 Traceback (most recent call last)",
      "\u001b[0;32m<ipython-input-32-adbcea94aae6>\u001b[0m in \u001b[0;36m<module>\u001b[0;34m()\u001b[0m\n\u001b[1;32m      3\u001b[0m     \u001b[0my\u001b[0m \u001b[0;34m=\u001b[0m \u001b[0mfrase\u001b[0m\u001b[0;34m.\u001b[0m\u001b[0msplit\u001b[0m\u001b[0;34m(\u001b[0m\u001b[0;34m)\u001b[0m\u001b[0;34m\u001b[0m\u001b[0m\n\u001b[1;32m      4\u001b[0m     \u001b[0;32mfor\u001b[0m \u001b[0mpalavra\u001b[0m \u001b[0;32min\u001b[0m \u001b[0my\u001b[0m\u001b[0;34m:\u001b[0m\u001b[0;34m\u001b[0m\u001b[0m\n\u001b[0;32m----> 5\u001b[0;31m         \u001b[0;32mif\u001b[0m \u001b[0mpalavra\u001b[0m \u001b[0;32min\u001b[0m \u001b[0mprob_rel\u001b[0m\u001b[0;34m[\u001b[0m\u001b[0mpalavra\u001b[0m\u001b[0;34m]\u001b[0m\u001b[0;34m:\u001b[0m\u001b[0;34m\u001b[0m\u001b[0m\n\u001b[0m\u001b[1;32m      6\u001b[0m             \u001b[0mmultiplicador\u001b[0m \u001b[0;34m=\u001b[0m \u001b[0mmultiplicador\u001b[0m \u001b[0;34m*\u001b[0m \u001b[0mprob_rel\u001b[0m\u001b[0;34m[\u001b[0m\u001b[0mpalavra\u001b[0m\u001b[0;34m]\u001b[0m\u001b[0;34m\u001b[0m\u001b[0m\n",
      "\u001b[0;31mTypeError\u001b[0m: argument of type 'float' is not iterable"
     ]
    }
   ],
   "source": [
    "multiplicador = 1\n",
    "for frase in nike_limpao[\"tweets\"]:\n",
    "    y = frase.split()\n",
    "    for palavra in y:\n",
    "        if palavra in prob_rel[palavra]:\n",
    "            multiplicador = multiplicador * prob_rel[palavra]\n"
   ]
  },
  {
   "cell_type": "markdown",
   "metadata": {},
   "source": [
    "## referências\n",
    "https://machinelearningmastery.com/clean-text-machine-learning-python/"
   ]
  },
  {
   "cell_type": "code",
   "execution_count": null,
   "metadata": {},
   "outputs": [],
   "source": []
  }
 ],
 "metadata": {
  "kernelspec": {
   "display_name": "Python 3",
   "language": "python",
   "name": "python3"
  },
  "language_info": {
   "codemirror_mode": {
    "name": "ipython",
    "version": 3
   },
   "file_extension": ".py",
   "mimetype": "text/x-python",
   "name": "python",
   "nbconvert_exporter": "python",
   "pygments_lexer": "ipython3",
   "version": "3.6.4"
  }
 },
 "nbformat": 4,
 "nbformat_minor": 2
}
