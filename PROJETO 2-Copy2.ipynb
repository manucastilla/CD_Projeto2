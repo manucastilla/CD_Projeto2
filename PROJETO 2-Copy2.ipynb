{
 "cells": [
  {
   "cell_type": "markdown",
   "metadata": {},
   "source": [
    "gfdg"
   ]
  },
  {
   "cell_type": "code",
   "execution_count": 2,
   "metadata": {},
   "outputs": [],
   "source": [
    "#Primeiramente importamos para poder realizar o código\n",
    "%matplotlib inline\n",
    "import pandas as pd\n",
    "import numpy as np\n",
    "import math as math\n",
    "from scipy import stats\n",
    "import seaborn as sns\n",
    "from emoji import UNICODE_EMOJI\n",
    "import matplotlib.pyplot as plt"
   ]
  },
  {
   "cell_type": "code",
   "execution_count": 3,
   "metadata": {},
   "outputs": [
    {
     "data": {
      "text/html": [
       "<div>\n",
       "<style scoped>\n",
       "    .dataframe tbody tr th:only-of-type {\n",
       "        vertical-align: middle;\n",
       "    }\n",
       "\n",
       "    .dataframe tbody tr th {\n",
       "        vertical-align: top;\n",
       "    }\n",
       "\n",
       "    .dataframe thead th {\n",
       "        text-align: right;\n",
       "    }\n",
       "</style>\n",
       "<table border=\"1\" class=\"dataframe\">\n",
       "  <thead>\n",
       "    <tr style=\"text-align: right;\">\n",
       "      <th></th>\n",
       "      <th>Treinamento</th>\n",
       "      <th>Valor_(R(1)_I(0))</th>\n",
       "      <th>Positivo(1)/Negativo(0)</th>\n",
       "    </tr>\n",
       "  </thead>\n",
       "  <tbody>\n",
       "    <tr>\n",
       "      <th>0</th>\n",
       "      <td>@floydy1983  save big with joyhunt-up to 80% o...</td>\n",
       "      <td>1</td>\n",
       "      <td>1.0</td>\n",
       "    </tr>\n",
       "    <tr>\n",
       "      <th>1</th>\n",
       "      <td>rt @virgilableaux: hi. former us navy sailor h...</td>\n",
       "      <td>1</td>\n",
       "      <td>1.0</td>\n",
       "    </tr>\n",
       "  </tbody>\n",
       "</table>\n",
       "</div>"
      ],
      "text/plain": [
       "                                         Treinamento  Valor_(R(1)_I(0))  \\\n",
       "0  @floydy1983  save big with joyhunt-up to 80% o...                  1   \n",
       "1  rt @virgilableaux: hi. former us navy sailor h...                  1   \n",
       "\n",
       "   Positivo(1)/Negativo(0)  \n",
       "0                      1.0  \n",
       "1                      1.0  "
      ]
     },
     "execution_count": 3,
     "metadata": {},
     "output_type": "execute_result"
    }
   ],
   "source": [
    "nike = pd.read_excel('tweets_nike_201809042210.xlsx', sheet_name = 0)\n",
    "nike_treinamento = nike[\"Treinamento\"]\n",
    "nike.head(2)"
   ]
  },
  {
   "cell_type": "code",
   "execution_count": 4,
   "metadata": {},
   "outputs": [
    {
     "data": {
      "text/html": [
       "<div>\n",
       "<style scoped>\n",
       "    .dataframe tbody tr th:only-of-type {\n",
       "        vertical-align: middle;\n",
       "    }\n",
       "\n",
       "    .dataframe tbody tr th {\n",
       "        vertical-align: top;\n",
       "    }\n",
       "\n",
       "    .dataframe thead th {\n",
       "        text-align: right;\n",
       "    }\n",
       "</style>\n",
       "<table border=\"1\" class=\"dataframe\">\n",
       "  <thead>\n",
       "    <tr style=\"text-align: right;\">\n",
       "      <th></th>\n",
       "      <th>tweets</th>\n",
       "      <th>Relevância</th>\n",
       "    </tr>\n",
       "  </thead>\n",
       "  <tbody>\n",
       "    <tr>\n",
       "      <th>0</th>\n",
       "      <td>floydy1983  save big with joyhuntup to 80 off ...</td>\n",
       "      <td>1</td>\n",
       "    </tr>\n",
       "    <tr>\n",
       "      <th>1</th>\n",
       "      <td>rt virgilableaux hi former us navy sailor here...</td>\n",
       "      <td>1</td>\n",
       "    </tr>\n",
       "    <tr>\n",
       "      <th>2</th>\n",
       "      <td>boycottnike i think a great big thank you nike...</td>\n",
       "      <td>1</td>\n",
       "    </tr>\n",
       "    <tr>\n",
       "      <th>3</th>\n",
       "      <td>rt thedonholly if you plan on boycotting nike ...</td>\n",
       "      <td>1</td>\n",
       "    </tr>\n",
       "    <tr>\n",
       "      <th>4</th>\n",
       "      <td>rt tonestradamus when they start boycotting ni...</td>\n",
       "      <td>1</td>\n",
       "    </tr>\n",
       "  </tbody>\n",
       "</table>\n",
       "</div>"
      ],
      "text/plain": [
       "                                              tweets  Relevância\n",
       "0  floydy1983  save big with joyhuntup to 80 off ...           1\n",
       "1  rt virgilableaux hi former us navy sailor here...           1\n",
       "2  boycottnike i think a great big thank you nike...           1\n",
       "3  rt thedonholly if you plan on boycotting nike ...           1\n",
       "4  rt tonestradamus when they start boycotting ni...           1"
      ]
     },
     "execution_count": 4,
     "metadata": {},
     "output_type": "execute_result"
    }
   ],
   "source": [
    "import string\n",
    "pontu = string.punctuation\n",
    "\n",
    "\n",
    "#criação de lista para tirar os tabs e os enters\n",
    "pont =[\"\\n\", \"\\t\"]\n",
    "\n",
    "#simplificação para pegar o dataframde dos tweets\n",
    "tweet = nike[\"Treinamento\"]\n",
    "\n",
    "### limpando os tweets\n",
    "tweets_limpos = []\n",
    "\n",
    "for frase in tweet:\n",
    "    x = \"\"\n",
    "    for m in frase:\n",
    "        if m in UNICODE_EMOJI:\n",
    "            x = x + \" \" + m + \" \"\n",
    "        elif m in pont:\n",
    "            x += \" \"\n",
    "        elif m not in pontu:\n",
    "            x += m\n",
    "    tweets_limpos.append(x)\n",
    "\n",
    "# criando um dataframe com os tweets limpos\n",
    "nike_limpinho = pd.DataFrame()\n",
    "nike_limpinho[\"tweets\"]= tweets_limpos\n",
    "nike_limpinho[\"Relevância\"] = nike[\"Valor_(R(1)_I(0))\"]\n",
    "\n",
    "nike_limpinho.head()"
   ]
  },
  {
   "cell_type": "code",
   "execution_count": 5,
   "metadata": {},
   "outputs": [
    {
     "data": {
      "text/html": [
       "<div>\n",
       "<style scoped>\n",
       "    .dataframe tbody tr th:only-of-type {\n",
       "        vertical-align: middle;\n",
       "    }\n",
       "\n",
       "    .dataframe tbody tr th {\n",
       "        vertical-align: top;\n",
       "    }\n",
       "\n",
       "    .dataframe thead th {\n",
       "        text-align: right;\n",
       "    }\n",
       "</style>\n",
       "<table border=\"1\" class=\"dataframe\">\n",
       "  <thead>\n",
       "    <tr style=\"text-align: right;\">\n",
       "      <th></th>\n",
       "      <th>tweets</th>\n",
       "      <th>Relevância</th>\n",
       "    </tr>\n",
       "  </thead>\n",
       "  <tbody>\n",
       "    <tr>\n",
       "      <th>0</th>\n",
       "      <td>floydy1983 save big with joyhuntup off rpp gre...</td>\n",
       "      <td>1</td>\n",
       "    </tr>\n",
       "    <tr>\n",
       "      <th>1</th>\n",
       "      <td>virgilableaux former navy sailor here wonderin...</td>\n",
       "      <td>1</td>\n",
       "    </tr>\n",
       "    <tr>\n",
       "      <th>2</th>\n",
       "      <td>boycottnike think great big thank you nike fro...</td>\n",
       "      <td>1</td>\n",
       "    </tr>\n",
       "    <tr>\n",
       "      <th>3</th>\n",
       "      <td>thedonholly you plan boycotting nike will disp...</td>\n",
       "      <td>1</td>\n",
       "    </tr>\n",
       "    <tr>\n",
       "      <th>4</th>\n",
       "      <td>tonestradamus when they start boycotting nike ...</td>\n",
       "      <td>1</td>\n",
       "    </tr>\n",
       "  </tbody>\n",
       "</table>\n",
       "</div>"
      ],
      "text/plain": [
       "                                              tweets  Relevância\n",
       "0  floydy1983 save big with joyhuntup off rpp gre...           1\n",
       "1  virgilableaux former navy sailor here wonderin...           1\n",
       "2  boycottnike think great big thank you nike fro...           1\n",
       "3  thedonholly you plan boycotting nike will disp...           1\n",
       "4  tonestradamus when they start boycotting nike ...           1"
      ]
     },
     "execution_count": 5,
     "metadata": {},
     "output_type": "execute_result"
    }
   ],
   "source": [
    "## limpar os nomes:\n",
    "    # tirar tudo que é irrelevante para minha pesquisa e para descobrir a probabilidade como: @,\n",
    "    # palavras com poucas letras, #, link(site).\n",
    "\n",
    "tweet_limpos =[]\n",
    "y = \" \"\n",
    "for tweet in nike_limpinho[\"tweets\"]:\n",
    "    limpao = [] \n",
    "    splitei = tweet.split(\" \")\n",
    "    for palavra in splitei:\n",
    "        if palavra in UNICODE_EMOJI:\n",
    "            limpao.append(palavra)\n",
    "        elif len(palavra)> 2 and palavra[0]!=\"@\" and palavra[0]!=\"#\" and palavra[:4] !=\"http\":\n",
    "            limpao.append(palavra)\n",
    "    tweet_limpos.append(y.join(limpao))\n",
    "    \n",
    "nike_limpao = pd.DataFrame()\n",
    "nike_limpao[\"tweets\"]= tweet_limpos\n",
    "nike_limpao[\"Relevância\"] = nike[\"Valor_(R(1)_I(0))\"]\n",
    "\n",
    "nike_limpao.head()"
   ]
  },
  {
   "cell_type": "code",
   "execution_count": 6,
   "metadata": {},
   "outputs": [],
   "source": [
    "palavras = []\n",
    "\n",
    "#adicionando todas palavras que foram recolhidas pelo tweet na lista\n",
    "for e in nike_limpao[\"tweets\"]: \n",
    "    y = e.split()\n",
    "    for m in y:\n",
    "        if m not in palavras: \n",
    "            palavras.append(m)\n",
    "\n",
    "#adicionar a quantidade de vezes que apareceu tweets relevantes e irrelevantes\n",
    "Rel = 0\n",
    "Irrel = 0\n",
    "for i in range(len(nike_limpao)):\n",
    "    linha = nike_limpao[\"tweets\"][i].split(\" \")\n",
    "    for m in linha:\n",
    "        if nike_limpao[\"Relevância\"][i] == 0:\n",
    "            Irrel +=1\n",
    "        else:\n",
    "            Rel +=1\n"
   ]
  },
  {
   "cell_type": "code",
   "execution_count": 7,
   "metadata": {},
   "outputs": [],
   "source": [
    "#adicionando pelo menos as palavras uma vez no dicionario para que quando for fazer vezes nunca multiplica por zero\n",
    "\n",
    "freq_rel = {}\n",
    "freq_irrel = {}\n",
    "\n",
    "for palavra in palavras:\n",
    "    freq_rel[palavra] = 1\n",
    "    freq_irrel[palavra] = 1\n",
    "\n",
    "for i in range(len(nike_limpao)):\n",
    "    palavra = nike_limpao[\"tweets\"][i].split(\" \")\n",
    "    for m in palavra:\n",
    "        if nike_limpao[\"Relevância\"][i]== 0:\n",
    "            freq_irrel[m]+=1\n",
    "        else:\n",
    "            freq_rel[m]+=1\n",
    "            \n"
   ]
  },
  {
   "cell_type": "code",
   "execution_count": 8,
   "metadata": {},
   "outputs": [],
   "source": [
    "#probabilidade de ser relevante dada cada palavra\n",
    "\n",
    "prob_i ={}\n",
    "prob_r = {}\n",
    "\n",
    "for palavra in palavras:\n",
    "    prob_r[palavra]= freq_rel[palavra]/(len(palavras)+Rel)\n",
    "    prob_i[palavra]= freq_irrel[palavra]/(len(palavras)+Irrel)"
   ]
  },
  {
   "cell_type": "code",
   "execution_count": 9,
   "metadata": {},
   "outputs": [],
   "source": [
    "irrelevante = 0\n",
    "relevante = 0\n",
    "\n",
    "for p in nike_limpao[\"Relevância\"]:\n",
    "    if p ==0:\n",
    "        irrelevante+=1\n",
    "    else:\n",
    "        relevante +=1\n",
    "        \n",
    "pI = irrelevante/len(nike_limpao[\"Relevância\"])\n",
    "pR = relevante/len(nike_limpao[\"Relevância\"])"
   ]
  },
  {
   "cell_type": "code",
   "execution_count": 10,
   "metadata": {},
   "outputs": [],
   "source": [
    "teste = pd.read_excel('tweets_nike_201809042210.xlsx', sheet_name = 1)\n"
   ]
  },
  {
   "cell_type": "code",
   "execution_count": 11,
   "metadata": {
    "scrolled": true
   },
   "outputs": [
    {
     "data": {
      "text/html": [
       "<div>\n",
       "<style scoped>\n",
       "    .dataframe tbody tr th:only-of-type {\n",
       "        vertical-align: middle;\n",
       "    }\n",
       "\n",
       "    .dataframe tbody tr th {\n",
       "        vertical-align: top;\n",
       "    }\n",
       "\n",
       "    .dataframe thead th {\n",
       "        text-align: right;\n",
       "    }\n",
       "</style>\n",
       "<table border=\"1\" class=\"dataframe\">\n",
       "  <thead>\n",
       "    <tr style=\"text-align: right;\">\n",
       "      <th></th>\n",
       "      <th>tweets</th>\n",
       "      <th>Relevância</th>\n",
       "    </tr>\n",
       "  </thead>\n",
       "  <tbody>\n",
       "    <tr>\n",
       "      <th>0</th>\n",
       "      <td>rt jamiesundays nike looking at the white peop...</td>\n",
       "      <td>1</td>\n",
       "    </tr>\n",
       "    <tr>\n",
       "      <th>1</th>\n",
       "      <td>trump weighs in on nikes kaepernick deal i thi...</td>\n",
       "      <td>1</td>\n",
       "    </tr>\n",
       "    <tr>\n",
       "      <th>2</th>\n",
       "      <td>rt rafaelshimunov im finally cutting out the n...</td>\n",
       "      <td>1</td>\n",
       "    </tr>\n",
       "    <tr>\n",
       "      <th>3</th>\n",
       "      <td>dear nike i am not going to boycott you becaus...</td>\n",
       "      <td>1</td>\n",
       "    </tr>\n",
       "    <tr>\n",
       "      <th>4</th>\n",
       "      <td>rt lindsaytuten anyone who doesn’t want their ...</td>\n",
       "      <td>1</td>\n",
       "    </tr>\n",
       "  </tbody>\n",
       "</table>\n",
       "</div>"
      ],
      "text/plain": [
       "                                              tweets  Relevância\n",
       "0  rt jamiesundays nike looking at the white peop...           1\n",
       "1  trump weighs in on nikes kaepernick deal i thi...           1\n",
       "2  rt rafaelshimunov im finally cutting out the n...           1\n",
       "3  dear nike i am not going to boycott you becaus...           1\n",
       "4  rt lindsaytuten anyone who doesn’t want their ...           1"
      ]
     },
     "execution_count": 11,
     "metadata": {},
     "output_type": "execute_result"
    }
   ],
   "source": [
    "\n",
    "#criação de lista para tirar os tabs e os enters\n",
    "pont =[\"\\n\", \"\\t\"]\n",
    "\n",
    "#simplificação para pegar o dataframde dos tweets\n",
    "tweet = teste[\"Teste\"]\n",
    "\n",
    "### limpando os tweets\n",
    "tweets_limpos = []\n",
    "\n",
    "for frase in tweet:\n",
    "    x = \"\"\n",
    "    for m in frase:\n",
    "        if m in UNICODE_EMOJI:\n",
    "            x = x + \" \" + m + \" \"\n",
    "        elif m in pont:\n",
    "            x += \" \"\n",
    "        elif m not in pontu:\n",
    "            x += m\n",
    "    tweets_limpos.append(x)\n",
    "\n",
    "# criando um dataframe com os tweets limpos\n",
    "nike_limpinho = pd.DataFrame()\n",
    "nike_limpinho[\"tweets\"]= tweets_limpos\n",
    "nike_limpinho[\"Relevância\"] = teste[\"Valor_(R(1)_I(0))\"]\n",
    "\n",
    "nike_limpinho.head()"
   ]
  },
  {
   "cell_type": "code",
   "execution_count": 12,
   "metadata": {},
   "outputs": [
    {
     "data": {
      "text/html": [
       "<div>\n",
       "<style scoped>\n",
       "    .dataframe tbody tr th:only-of-type {\n",
       "        vertical-align: middle;\n",
       "    }\n",
       "\n",
       "    .dataframe tbody tr th {\n",
       "        vertical-align: top;\n",
       "    }\n",
       "\n",
       "    .dataframe thead th {\n",
       "        text-align: right;\n",
       "    }\n",
       "</style>\n",
       "<table border=\"1\" class=\"dataframe\">\n",
       "  <thead>\n",
       "    <tr style=\"text-align: right;\">\n",
       "      <th></th>\n",
       "      <th>tweets</th>\n",
       "      <th>Relevância</th>\n",
       "    </tr>\n",
       "  </thead>\n",
       "  <tbody>\n",
       "    <tr>\n",
       "      <th>0</th>\n",
       "      <td>jamiesundays nike looking the white people des...</td>\n",
       "      <td>1</td>\n",
       "    </tr>\n",
       "    <tr>\n",
       "      <th>1</th>\n",
       "      <td>trump weighs nikes kaepernick deal think its t...</td>\n",
       "      <td>1</td>\n",
       "    </tr>\n",
       "    <tr>\n",
       "      <th>2</th>\n",
       "      <td>rafaelshimunov finally cutting out the nike lo...</td>\n",
       "      <td>1</td>\n",
       "    </tr>\n",
       "    <tr>\n",
       "      <th>3</th>\n",
       "      <td>dear nike not going boycott you because just s...</td>\n",
       "      <td>1</td>\n",
       "    </tr>\n",
       "    <tr>\n",
       "      <th>4</th>\n",
       "      <td>lindsaytuten anyone who doesn’t want their nik...</td>\n",
       "      <td>1</td>\n",
       "    </tr>\n",
       "  </tbody>\n",
       "</table>\n",
       "</div>"
      ],
      "text/plain": [
       "                                              tweets  Relevância\n",
       "0  jamiesundays nike looking the white people des...           1\n",
       "1  trump weighs nikes kaepernick deal think its t...           1\n",
       "2  rafaelshimunov finally cutting out the nike lo...           1\n",
       "3  dear nike not going boycott you because just s...           1\n",
       "4  lindsaytuten anyone who doesn’t want their nik...           1"
      ]
     },
     "execution_count": 12,
     "metadata": {},
     "output_type": "execute_result"
    }
   ],
   "source": [
    "tweet_limpos =[]\n",
    "y = \" \"\n",
    "for tweet in nike_limpinho[\"tweets\"]:\n",
    "    limpao = [] \n",
    "    splitei = tweet.split(\" \")\n",
    "    for palavra in splitei:\n",
    "        if palavra in UNICODE_EMOJI:\n",
    "            limpao.append(palavra)\n",
    "        elif len(palavra)> 2 and palavra[0]!=\"@\" and palavra[0]!=\"#\" and palavra[:4] !=\"http\":\n",
    "            limpao.append(palavra)\n",
    "    tweet_limpos.append(y.join(limpao))\n",
    "    \n",
    "nike_limpao = pd.DataFrame()\n",
    "nike_limpao[\"tweets\"]= tweet_limpos\n",
    "nike_limpao[\"Relevância\"] = teste[\"Valor_(R(1)_I(0))\"]\n",
    "\n",
    "nike_limpao.head()"
   ]
  },
  {
   "cell_type": "code",
   "execution_count": 64,
   "metadata": {
    "scrolled": true
   },
   "outputs": [
    {
     "data": {
      "text/plain": [
       "-354.378551182605"
      ]
     },
     "execution_count": 64,
     "metadata": {},
     "output_type": "execute_result"
    }
   ],
   "source": [
    "chute = []\n",
    "a = []\n",
    "b=[]\n",
    "for frase in nike_limpao[\"tweets\"]:\n",
    "    pR_t= 1\n",
    "    pI_t = 1\n",
    "    y = frase.split(\" \")\n",
    "    for palavra in y:\n",
    "        if palavra in prob_i:\n",
    "            pI_t *= prob_i[palavra]\n",
    "        else:\n",
    "            pI_t *= 1/ (len(palavras)+Irrel)\n",
    "        if palavra in prob_r:\n",
    "            pR_t*= prob_r[palavra]\n",
    "        else:\n",
    "            pR_t *= 1/(len(palavra)+Rel)\n",
    "\n",
    "    PR =np.log( pR*pR_t)\n",
    "    PIR =np.log(pI*pI_t)\n",
    "\n",
    "############\n",
    "# saber o mínimo e o máximo\n",
    "    a.append(PR)\n",
    "    b.append(PIR)\n",
    "    \n",
    "#############\n",
    "    \n",
    "    if PR >= PIR:\n",
    "        chute.append(1)\n",
    "    else:\n",
    "        chute.append(0)\n",
    "\n",
    "#nike_limpao [\"Chute\"]= chute \n",
    "#nike_limpao\n",
    "min(b)"
   ]
  },
  {
   "cell_type": "code",
   "execution_count": 65,
   "metadata": {
    "scrolled": true
   },
   "outputs": [
    {
     "name": "stdout",
     "output_type": "stream",
     "text": [
      "Porcentagem de positivos falsos: 1.0%\n",
      "Porcentagem de positivos verdadeiros: 93.5%\n",
      "Porcentagem de negativos verdadeiros: 2.5%\n",
      "Porcentagem de negativos falsos: 3.0%\n"
     ]
    }
   ],
   "source": [
    "um = nike_limpao.loc[(nike_limpao[\"Relevância\"]==1)&(nike_limpao[\"Chute\"]==1), [\"Relevância\", \"Chute\"]]\n",
    "umC = nike_limpao.loc[(nike_limpao[\"Relevância\"]==0)&(nike_limpao[\"Chute\"]==1), [\"Relevância\", \"Chute\"]]\n",
    "zero = nike_limpao.loc[(nike_limpao[\"Relevância\"]==0)&(nike_limpao[\"Chute\"]==0), [\"Relevância\", \"Chute\"]]\n",
    "zeroC = nike_limpao.loc[(nike_limpao[\"Relevância\"]==1)&(nike_limpao[\"Chute\"]==0), [\"Relevância\", \"Chute\"]]\n",
    "    \n",
    "pos_fal = (len(umC)/len(nike_limpao[\"Relevância\"]))*100\n",
    "pos_ver = (len(um)/len(nike_limpao[\"Relevância\"]))*100\n",
    "neg_ver = (len(zero)/len(nike_limpao[\"Relevância\"]))*100\n",
    "neg_fal= (len(zeroC)/len(nike_limpao[\"Relevância\"]))*100\n",
    "\n",
    "print(\"Porcentagem de positivos falsos: {0}%\".format(pos_fal))\n",
    "print(\"Porcentagem de positivos verdadeiros: {0}%\".format(pos_ver))\n",
    "print(\"Porcentagem de negativos verdadeiros: {0}%\".format(neg_ver))\n",
    "print(\"Porcentagem de negativos falsos: {0}%\".format(neg_fal))"
   ]
  },
  {
   "cell_type": "code",
   "execution_count": 77,
   "metadata": {},
   "outputs": [],
   "source": [
    "niveis =[]\n",
    "\n",
    "for frase in nike_limpao[\"tweets\"]:\n",
    "    pR_t= 1\n",
    "    pI_t = 1\n",
    "    y = frase.split(\" \")\n",
    "    for palavra in y:\n",
    "        if palavra in prob_i:\n",
    "            pI_t *= prob_i[palavra]\n",
    "        else:\n",
    "            pI_t *= 1/ (len(palavras)+Irrel)\n",
    "        if palavra in prob_r:\n",
    "            pR_t*= prob_r[palavra]\n",
    "        else:\n",
    "            pR_t *= 1/(len(palavra)+Rel)\n",
    "\n",
    "    PR = pR*pR_t\n",
    "    PIR = pI*pI_t\n",
    "    \n",
    "    \n",
    "    if PIR-PR<-0.5 and PIR-PR>=-1:\n",
    "        niveis.append(\"MR\")\n",
    "    elif PIR-PR>=-0.5 and PIR-PR<0:\n",
    "        niveis.append(\"R\")\n",
    "    elif PIR-PR==0:\n",
    "        niveis.append(\"N\")\n",
    "    elif PIR-PR>0 and PIR-PR<=0.5:\n",
    "        niveis.append(\"I\")\n",
    "    else:\n",
    "        niveis.append(\"MI\")"
   ]
  },
  {
   "cell_type": "code",
   "execution_count": 78,
   "metadata": {},
   "outputs": [
    {
     "data": {
      "text/html": [
       "<div>\n",
       "<style scoped>\n",
       "    .dataframe tbody tr th:only-of-type {\n",
       "        vertical-align: middle;\n",
       "    }\n",
       "\n",
       "    .dataframe tbody tr th {\n",
       "        vertical-align: top;\n",
       "    }\n",
       "\n",
       "    .dataframe thead th {\n",
       "        text-align: right;\n",
       "    }\n",
       "</style>\n",
       "<table border=\"1\" class=\"dataframe\">\n",
       "  <thead>\n",
       "    <tr style=\"text-align: right;\">\n",
       "      <th></th>\n",
       "      <th>Níveis</th>\n",
       "    </tr>\n",
       "  </thead>\n",
       "  <tbody>\n",
       "  </tbody>\n",
       "</table>\n",
       "</div>"
      ],
      "text/plain": [
       "Empty DataFrame\n",
       "Columns: [Níveis]\n",
       "Index: []"
      ]
     },
     "execution_count": 78,
     "metadata": {},
     "output_type": "execute_result"
    }
   ],
   "source": [
    "nike_limpao[\"Níveis\"] = niveis\n",
    "nike_limpao\n",
    "\n",
    "nike_limpao.loc[(nike_limpao[\"Níveis\"]==\"MR\"), [\"Níveis\"]]\n"
   ]
  },
  {
   "cell_type": "markdown",
   "metadata": {},
   "source": [
    "## referências\n",
    "https://machinelearningmastery.com/clean-text-machine-learning-python/"
   ]
  },
  {
   "cell_type": "code",
   "execution_count": null,
   "metadata": {},
   "outputs": [],
   "source": []
  }
 ],
 "metadata": {
  "kernelspec": {
   "display_name": "Python 3",
   "language": "python",
   "name": "python3"
  },
  "language_info": {
   "codemirror_mode": {
    "name": "ipython",
    "version": 3
   },
   "file_extension": ".py",
   "mimetype": "text/x-python",
   "name": "python",
   "nbconvert_exporter": "python",
   "pygments_lexer": "ipython3",
   "version": "3.6.5"
  }
 },
 "nbformat": 4,
 "nbformat_minor": 2
}
